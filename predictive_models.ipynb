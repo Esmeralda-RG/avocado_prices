{
 "cells": [
  {
   "cell_type": "code",
   "execution_count": null,
   "id": "769f285c",
   "metadata": {},
   "outputs": [],
   "source": [
    "%pip install jupyter pandas numpy matplotlib seaborn scikit-learn tensorflow xgboost\n",
    "\n",
    "import pandas as pd\n",
    "import numpy as np\n",
    "import matplotlib.pyplot as plt\n",
    "\n",
    "from sklearn.model_selection import train_test_split\n",
    "from sklearn.linear_model import LinearRegression\n",
    "from sklearn.ensemble import RandomForestRegressor\n",
    "from sklearn.svm import SVR\n",
    "from sklearn.metrics import mean_squared_error, r2_score\n",
    "\n",
    "from tensorflow.keras.models import Sequential\n",
    "from tensorflow.keras.layers import Dense\n",
    "\n",
    "from xgboost import XGBRegressor"
   ]
  },
  {
   "cell_type": "markdown",
   "id": "f0fdf603",
   "metadata": {},
   "source": [
    "### Conjunto de datos limpio "
   ]
  },
  {
   "cell_type": "code",
   "execution_count": null,
   "id": "3a0f55dc",
   "metadata": {},
   "outputs": [],
   "source": [
    "df = pd.read_csv('data/avocado_cleaned.csv')\n",
    "\n",
    "x = df.drop(columns=['AveragePrice'])\n",
    "y = df['AveragePrice']\n",
    "x_train, x_test, y_train, y_test = train_test_split(x, y, test_size=0.2, random_state=42)"
   ]
  },
  {
   "cell_type": "markdown",
   "id": "f930874b",
   "metadata": {},
   "source": [
    "### Regresión Lineal"
   ]
  },
  {
   "cell_type": "code",
   "execution_count": null,
   "id": "4c68029c",
   "metadata": {},
   "outputs": [],
   "source": [
    "lr = LinearRegression()\n",
    "lr.fit(x_train, y_train)\n",
    "y_pred_lr = lr.predict(x_test)\n",
    "mse_lr = mean_squared_error(y_test, y_pred_lr)\n",
    "r2_lr = r2_score(y_test, y_pred_lr)"
   ]
  },
  {
   "cell_type": "markdown",
   "id": "f8780cc2",
   "metadata": {},
   "source": [
    "### Random Forest Regressor\n"
   ]
  },
  {
   "cell_type": "code",
   "execution_count": null,
   "id": "b831e49e",
   "metadata": {},
   "outputs": [],
   "source": [
    "rf = RandomForestRegressor(n_estimators=100, random_state=42)\n",
    "rf.fit(x_train, y_train)\n",
    "y_pred_rf = rf.predict(x_test)\n",
    "mse_rf = mean_squared_error(y_test, y_pred_rf)\n",
    "r2_rf = r2_score(y_test, y_pred_rf)"
   ]
  },
  {
   "cell_type": "markdown",
   "id": "e911effa",
   "metadata": {},
   "source": [
    "### Red neuronal"
   ]
  },
  {
   "cell_type": "code",
   "execution_count": null,
   "id": "e3e1de02",
   "metadata": {},
   "outputs": [],
   "source": [
    "nn = Sequential([\n",
    "    Dense(64, activation='relu', input_shape=(x_train.shape[1],)),\n",
    "    Dense(32, activation='relu'),\n",
    "    Dense(1)\n",
    "])\n",
    "nn.compile(optimizer='adam', loss='mse')\n",
    "nn.fit(x_train, y_train, epochs=50, batch_size=32, verbose=0)\n",
    "y_pred_nn = nn.predict(x_test).flatten()\n",
    "mse_nn = mean_squared_error(y_test, y_pred_nn)\n",
    "r2_nn = r2_score(y_test, y_pred_nn)"
   ]
  },
  {
   "cell_type": "markdown",
   "id": "4d6b9f16",
   "metadata": {},
   "source": [
    "### Gradient Boosting Regressor (XGBoost)\n",
    "\n"
   ]
  },
  {
   "cell_type": "code",
   "execution_count": null,
   "id": "a8e62099",
   "metadata": {},
   "outputs": [],
   "source": [
    "xgb = XGBRegressor(n_estimators=100, random_state=42)\n",
    "xgb.fit(x_train, y_train)\n",
    "y_pred_xgb = xgb.predict(x_test)\n",
    "mse_xgb = mean_squared_error(y_test, y_pred_xgb)\n",
    "r2_xgb = r2_score(y_test, y_pred_xgb)"
   ]
  },
  {
   "cell_type": "markdown",
   "id": "391b2f7c",
   "metadata": {},
   "source": [
    "### Support Vector Reggressor (SVR)"
   ]
  },
  {
   "cell_type": "code",
   "execution_count": null,
   "id": "7b0e1da3",
   "metadata": {},
   "outputs": [],
   "source": [
    "svr = SVR(kernel='rbf')\n",
    "svr.fit(x_train, y_train)\n",
    "y_pred_svr = svr.predict(x_test)\n",
    "mse_svr = mean_squared_error(y_test, y_pred_svr)\n",
    "r2_svr = r2_score(y_test, y_pred_svr)"
   ]
  },
  {
   "cell_type": "markdown",
   "id": "ed27a9a5",
   "metadata": {},
   "source": [
    "### Guardar métricas "
   ]
  },
  {
   "cell_type": "code",
   "execution_count": null,
   "id": "c83aeeb0",
   "metadata": {},
   "outputs": [],
   "source": [
    "metrics = pd.DataFrame({\n",
    "    'Model': ['Linear Regression', 'Random Forest', 'Neural Network', 'XGBoost', 'SVR'],\n",
    "    'MSE': [mse_lr, mse_rf, mse_nn, mse_xgb, mse_svr],\n",
    "    'R2 Score': [r2_lr, r2_rf, r2_nn, r2_xgb, r2_svr]\n",
    "})\n",
    "metrics.to_csv('data/model_metrics.csv', index=False)"
   ]
  },
  {
   "cell_type": "markdown",
   "id": "1ac066d2",
   "metadata": {},
   "source": [
    "### Análisis del rendimiento del modelo"
   ]
  },
  {
   "cell_type": "code",
   "execution_count": null,
   "id": "e24ec9fa",
   "metadata": {},
   "outputs": [],
   "source": [
    "print(f'Linear Regression - MSE: {mse_lr:.4f}, R2: {r2_lr:.4f}')\n",
    "print(f'Random Forest - MSE: {mse_rf:.4f}, R2: {r2_rf:.4f}')\n",
    "print(f'Neural Network - MSE: {mse_nn:.4f}, R2: {r2_nn:.4f}')\n",
    "print(f'XGBoost - MSE: {mse_xgb:.4f}, R2: {r2_xgb:.4f}')\n",
    "print(f'SVR - MSE: {mse_svr:.4f}, R2: {r2_svr:.4f}')"
   ]
  },
  {
   "cell_type": "markdown",
   "id": "26799d0f",
   "metadata": {},
   "source": [
    "### Comparación\n",
    "Los métodos de conjunto (Random Forest, XGBoost) suelen superar a otros debido a su capacidad para capturar patrones no lineales y manejar datos de alta dimensión. La regresión lineal presenta dificultades con las no linealidades, las redes neuronales están limitadas por el tamaño del conjunto de datos y la falta de ajuste, y la SVR puede tener un rendimiento inferior sin una optimización exhaustiva de hiperparámetros.\n",
    "\n",
    "En este caso, la clasificación solo es posible si se discretiza el precio promedio en categorías, pero se pierde precisión. Por otro lado, el agrupamiento puede segmentar los datos, pero no está supervisado y no predice el precio promedio directamente.\n",
    "\n",
    "### Predicciones gráficas frente a datos reales"
   ]
  },
  {
   "cell_type": "code",
   "execution_count": null,
   "id": "bba77632",
   "metadata": {},
   "outputs": [],
   "source": [
    "plt.figure(figsize=(15,10))\n",
    "plt.subplot(2, 3, 1)\n",
    "plt.scatter(y_test, y_pred_lr, alpha=0.5)\n",
    "plt.plot([y_test.min(), y_test.max()], [y_test.min(), y_test.max()], 'r--')\n",
    "plt.title('Linear Regression')\n",
    "plt.xlabel('Valor Real')\n",
    "plt.ylabel('Valor Predicho')"
   ]
  },
  {
   "cell_type": "code",
   "execution_count": null,
   "id": "cc4de30d",
   "metadata": {},
   "outputs": [],
   "source": [
    "plt.figure(figsize=(15, 10))\n",
    "plt.subplot(2, 3, 2)\n",
    "plt.scatter(y_test, y_pred_rf, alpha=0.5)\n",
    "plt.plot([y_test.min(), y_test.max()], [y_test.min(), y_test.max()], 'r--')\n",
    "plt.title('Random Forest')\n",
    "plt.xlabel('Valor Real')\n",
    "plt.ylabel('Valor Predicho')"
   ]
  },
  {
   "cell_type": "code",
   "execution_count": null,
   "id": "4bb9c879",
   "metadata": {},
   "outputs": [],
   "source": [
    "plt.figure(figsize=(15, 10))\n",
    "plt.subplot(2, 3, 3)\n",
    "plt.scatter(y_test, y_pred_nn, alpha=0.5)\n",
    "plt.plot([y_test.min(), y_test.max()], [y_test.min(), y_test.max()], 'r--')\n",
    "plt.title('Neural Network')\n",
    "plt.xlabel('Valor Real')\n",
    "plt.ylabel('Valor Predicho')"
   ]
  },
  {
   "cell_type": "code",
   "execution_count": null,
   "id": "a0b94f35",
   "metadata": {},
   "outputs": [],
   "source": [
    "plt.figure(figsize=(15, 10))\n",
    "plt.subplot(2, 3, 4)\n",
    "plt.scatter(y_test, y_pred_xgb, alpha=0.5)\n",
    "plt.plot([y_test.min(), y_test.max()], [y_test.min(), y_test.max()], 'r--')\n",
    "plt.title('XGBoost')\n",
    "plt.xlabel('Valor Real')\n",
    "plt.ylabel('Valor Predicho')"
   ]
  },
  {
   "cell_type": "code",
   "execution_count": null,
   "id": "316785c6",
   "metadata": {},
   "outputs": [],
   "source": [
    "plt.figure(figsize=(15, 10))\n",
    "plt.subplot(2, 3, 5)\n",
    "plt.scatter(y_test, y_pred_svr, alpha=0.5)\n",
    "plt.plot([y_test.min(), y_test.max()], [y_test.min(), y_test.max()], 'r--')\n",
    "plt.title('SVR')\n",
    "plt.xlabel('Valor Real')\n",
    "plt.ylabel('Valor Predicho')\n",
    "\n",
    "plt.tight_layout()\n",
    "plt.savefig('data/model_predictions.png')\n",
    "plt.show()"
   ]
  }
 ],
 "metadata": {
  "kernelspec": {
   "display_name": "avocado_env",
   "language": "python",
   "name": "python3"
  },
  "language_info": {
   "codemirror_mode": {
    "name": "ipython",
    "version": 3
   },
   "file_extension": ".py",
   "mimetype": "text/x-python",
   "name": "python",
   "nbconvert_exporter": "python",
   "pygments_lexer": "ipython3",
   "version": "3.11.2"
  }
 },
 "nbformat": 4,
 "nbformat_minor": 5
}
